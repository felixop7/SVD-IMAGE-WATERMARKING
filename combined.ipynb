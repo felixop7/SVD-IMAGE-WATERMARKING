{
 "cells": [
  {
   "cell_type": "code",
   "execution_count": 2,
   "metadata": {},
   "outputs": [
    {
     "name": "stdout",
     "output_type": "stream",
     "text": [
      "!\n"
     ]
    }
   ],
   "source": [
    "import cv2\n",
    "import numpy as np\n",
    "from PIL import Image\n",
    "print(\"!\")"
   ]
  },
  {
   "cell_type": "code",
   "execution_count": 3,
   "metadata": {},
   "outputs": [],
   "source": [
    "hr_image = cv2.imread('high_resolution_image.jpg', cv2.IMREAD_GRAYSCALE)\n",
    "wm_image = cv2.imread('./download.png', cv2.IMREAD_GRAYSCALE)\n"
   ]
  },
  {
   "cell_type": "code",
   "execution_count": 26,
   "metadata": {},
   "outputs": [],
   "source": [
    "hr_image = cv2.imread('high_resolution_image.jpg')\n",
    "wm_image = cv2.imread('./download.png')\n"
   ]
  },
  {
   "cell_type": "code",
   "execution_count": 4,
   "metadata": {},
   "outputs": [],
   "source": [
    "wm_image_resized = cv2.resize(wm_image, hr_image.shape[::-1])"
   ]
  },
  {
   "cell_type": "code",
   "execution_count": 5,
   "metadata": {},
   "outputs": [],
   "source": [
    "U_hr, sigma_hr, V_hr = np.linalg.svd(hr_image)"
   ]
  },
  {
   "cell_type": "code",
   "execution_count": 6,
   "metadata": {},
   "outputs": [
    {
     "data": {
      "text/plain": [
       "array([[ 0.01048096,  0.01586399,  0.01058625, ..., -0.00766547,\n",
       "         0.01221126, -0.013827  ],\n",
       "       [ 0.01049772,  0.01588282,  0.01054124, ..., -0.01338932,\n",
       "        -0.02107989,  0.01525267],\n",
       "       [ 0.01052163,  0.01589549,  0.01051577, ...,  0.01970254,\n",
       "         0.00896921,  0.00830491],\n",
       "       ...,\n",
       "       [ 0.00316432,  0.0100526 , -0.00239123, ...,  0.02466152,\n",
       "         0.02007504,  0.00934611],\n",
       "       [ 0.0031631 ,  0.01014215, -0.00302262, ..., -0.01329045,\n",
       "        -0.01038078,  0.03474529],\n",
       "       [ 0.00315938,  0.01018192, -0.00319368, ...,  0.00921038,\n",
       "         0.01073868, -0.02837677]])"
      ]
     },
     "execution_count": 6,
     "metadata": {},
     "output_type": "execute_result"
    }
   ],
   "source": [
    "U_hr"
   ]
  },
  {
   "cell_type": "code",
   "execution_count": 7,
   "metadata": {},
   "outputs": [
    {
     "data": {
      "text/plain": [
       "array([3.94070082e+05, 8.62179616e+04, 4.28367982e+04, ...,\n",
       "       6.74859280e+00, 6.73560481e+00, 6.62599867e+00])"
      ]
     },
     "execution_count": 7,
     "metadata": {},
     "output_type": "execute_result"
    }
   ],
   "source": [
    "sigma_hr"
   ]
  },
  {
   "cell_type": "code",
   "execution_count": 8,
   "metadata": {},
   "outputs": [
    {
     "data": {
      "text/plain": [
       "array([[ 6.16470172e-03,  6.16806605e-03,  6.17366356e-03, ...,\n",
       "         3.95065675e-03,  3.95305599e-03,  3.94975285e-03],\n",
       "       [-6.58138371e-03, -6.53075917e-03, -6.49188553e-03, ...,\n",
       "         9.56959438e-03,  9.57491619e-03,  9.54432942e-03],\n",
       "       [ 4.30220236e-03,  4.19779545e-03,  4.12888098e-03, ...,\n",
       "         8.86281206e-03,  8.88554897e-03,  8.88844724e-03],\n",
       "       ...,\n",
       "       [ 1.89146433e-03, -3.80618051e-03,  4.01799417e-03, ...,\n",
       "         5.74339308e-01, -1.36457466e-01, -8.76852241e-02],\n",
       "       [-5.63343489e-03,  1.04761592e-02, -1.59109868e-02, ...,\n",
       "        -1.28899501e-01,  5.26332112e-01, -1.56921404e-01],\n",
       "       [ 3.55241603e-04,  1.37333696e-02,  8.84251617e-04, ...,\n",
       "        -8.75425235e-02, -1.47773144e-01,  4.73032704e-01]])"
      ]
     },
     "execution_count": 8,
     "metadata": {},
     "output_type": "execute_result"
    }
   ],
   "source": [
    "V_hr"
   ]
  },
  {
   "cell_type": "code",
   "execution_count": 9,
   "metadata": {},
   "outputs": [],
   "source": [
    "U_wm, sigma_wm, V_wm = np.linalg.svd(wm_image_resized)"
   ]
  },
  {
   "cell_type": "code",
   "execution_count": 10,
   "metadata": {},
   "outputs": [
    {
     "data": {
      "text/plain": [
       "array([[ 2.03261992e-02,  3.15937061e-02,  2.18009554e-02, ...,\n",
       "        -7.14776194e-13, -6.61578056e-13, -1.02816209e-12],\n",
       "       [ 2.03237830e-02,  3.15895045e-02,  2.18012863e-02, ...,\n",
       "        -2.87639716e-14,  1.27878113e-15, -3.37133985e-13],\n",
       "       [ 2.03250745e-02,  3.15930775e-02,  2.18003280e-02, ...,\n",
       "         1.74024782e-13, -7.16548860e-13,  1.92427479e-13],\n",
       "       ...,\n",
       "       [ 2.03339324e-02,  3.16067305e-02,  2.18030315e-02, ...,\n",
       "         1.61654544e-14, -5.67506112e-14,  3.68723064e-14],\n",
       "       [ 2.03331110e-02,  3.16061028e-02,  2.18021679e-02, ...,\n",
       "        -7.30950131e-15,  1.18530836e-13,  7.34705265e-14],\n",
       "       [ 2.03342991e-02,  3.16073859e-02,  2.18039600e-02, ...,\n",
       "        -1.26813924e-13,  1.67051269e-13, -2.71575365e-14]])"
      ]
     },
     "execution_count": 10,
     "metadata": {},
     "output_type": "execute_result"
    }
   ],
   "source": [
    "U_wm"
   ]
  },
  {
   "cell_type": "code",
   "execution_count": 11,
   "metadata": {},
   "outputs": [
    {
     "data": {
      "text/plain": [
       "array([8.43965517e+05, 9.88316945e+04, 6.81210838e+04, ...,\n",
       "       6.87644462e-11, 2.89584376e-11, 1.87310948e-11])"
      ]
     },
     "execution_count": 11,
     "metadata": {},
     "output_type": "execute_result"
    }
   ],
   "source": [
    "sigma_wm"
   ]
  },
  {
   "cell_type": "code",
   "execution_count": 12,
   "metadata": {},
   "outputs": [
    {
     "data": {
      "text/plain": [
       "array([[ 1.54137827e-02,  1.54137827e-02,  1.54137827e-02, ...,\n",
       "         1.54137827e-02,  1.54137827e-02,  1.54137827e-02],\n",
       "       [-6.72287721e-03, -6.72287721e-03, -6.72287721e-03, ...,\n",
       "        -6.72287721e-03, -6.72287721e-03, -6.72287721e-03],\n",
       "       [ 2.84102818e-03,  2.84102818e-03,  2.84102818e-03, ...,\n",
       "         2.84102818e-03,  2.84102818e-03,  2.84102818e-03],\n",
       "       ...,\n",
       "       [ 3.70984727e-03, -1.57884364e-02, -6.54421961e-04, ...,\n",
       "         9.91790786e-01, -9.12818794e-03, -7.11017891e-04],\n",
       "       [-8.78036991e-03, -8.31864884e-03,  3.01249622e-02, ...,\n",
       "        -9.06141812e-03,  9.77943958e-01, -1.12987981e-02],\n",
       "       [-1.15918261e-02,  1.03419086e-02,  3.14193632e-02, ...,\n",
       "        -7.74049803e-04, -1.09759206e-02,  9.89249446e-01]])"
      ]
     },
     "execution_count": 12,
     "metadata": {},
     "output_type": "execute_result"
    }
   ],
   "source": [
    "V_wm"
   ]
  },
  {
   "cell_type": "code",
   "execution_count": 13,
   "metadata": {},
   "outputs": [],
   "source": [
    "alpha = 0.6\n",
    "sigma_hr_mod = sigma_hr + alpha * sigma_wm"
   ]
  },
  {
   "cell_type": "code",
   "execution_count": 14,
   "metadata": {},
   "outputs": [
    {
     "data": {
      "text/plain": [
       "array([9.00449392e+05, 1.45516978e+05, 8.37094485e+04, ...,\n",
       "       6.74859280e+00, 6.73560481e+00, 6.62599867e+00])"
      ]
     },
     "execution_count": 14,
     "metadata": {},
     "output_type": "execute_result"
    }
   ],
   "source": [
    "sigma_hr_mod"
   ]
  },
  {
   "cell_type": "code",
   "execution_count": 15,
   "metadata": {},
   "outputs": [
    {
     "data": {
      "text/plain": [
       "array([[51.07133751, 51.18607763, 50.22744166, ..., 80.73930233,\n",
       "        80.71224736, 79.58473593],\n",
       "       [51.17359616, 50.21023924, 50.34684231, ..., 80.87454271,\n",
       "        79.79579359, 79.7152023 ],\n",
       "       [51.24673602, 50.28485179, 50.45295248, ..., 79.95268585,\n",
       "        79.94724479, 78.80645644],\n",
       "       ...,\n",
       "       [ 3.87591653,  4.04600358,  4.02124472, ..., 17.21664778,\n",
       "        17.09294722, 16.92745606],\n",
       "       [ 3.92475077,  4.17185103,  4.26131668, ..., 17.37160726,\n",
       "        17.24311107, 17.09951546],\n",
       "       [ 4.0661021 ,  4.35177192,  4.46070917, ..., 17.3631969 ,\n",
       "        17.24428735, 17.12061904]])"
      ]
     },
     "execution_count": 15,
     "metadata": {},
     "output_type": "execute_result"
    }
   ],
   "source": [
    "hr_image_mod = np.dot(U_hr[:, :sigma_hr_mod.shape[0]], np.dot(np.diag(sigma_hr_mod), V_hr[:sigma_hr_mod.shape[0],:]))\n",
    "hr_image_mod"
   ]
  },
  {
   "cell_type": "code",
   "execution_count": 16,
   "metadata": {},
   "outputs": [
    {
     "data": {
      "text/plain": [
       "array([[23, 23, 23, ..., 36, 36, 36],\n",
       "       [23, 23, 23, ..., 37, 36, 36],\n",
       "       [23, 23, 23, ..., 36, 36, 36],\n",
       "       ...,\n",
       "       [ 2,  2,  2, ...,  8,  8,  8],\n",
       "       [ 2,  2,  2, ...,  8,  8,  8],\n",
       "       [ 2,  2,  2, ...,  8,  8,  8]], dtype=uint8)"
      ]
     },
     "execution_count": 16,
     "metadata": {},
     "output_type": "execute_result"
    }
   ],
   "source": [
    "hr_image_mod = cv2.normalize(hr_image_mod, None, 0, 255, cv2.NORM_MINMAX, dtype=cv2.CV_8U)\n",
    "hr_image_mod\n"
   ]
  },
  {
   "cell_type": "code",
   "execution_count": 17,
   "metadata": {},
   "outputs": [],
   "source": [
    "img1 = Image.fromarray(hr_image_mod)\n",
    "img1.show()"
   ]
  },
  {
   "cell_type": "code",
   "execution_count": 18,
   "metadata": {},
   "outputs": [],
   "source": [
    "img1.save('output_image.png')"
   ]
  },
  {
   "attachments": {},
   "cell_type": "markdown",
   "metadata": {},
   "source": [
    "\n",
    "# Embedded"
   ]
  },
  {
   "cell_type": "code",
   "execution_count": 19,
   "metadata": {},
   "outputs": [],
   "source": [
    "U_hr_mod1, sigma_hr_mod1, V_hr_mod1 = np.linalg.svd(hr_image_mod)"
   ]
  },
  {
   "cell_type": "code",
   "execution_count": 20,
   "metadata": {},
   "outputs": [],
   "source": [
    "U_hr1, sigma_hr1, V_hr1 = np.linalg.svd(hr_image)"
   ]
  },
  {
   "cell_type": "code",
   "execution_count": 21,
   "metadata": {},
   "outputs": [
    {
     "data": {
      "text/plain": [
       "(array([[1., 0., 0., ..., 0., 0., 0.],\n",
       "        [0., 1., 0., ..., 0., 0., 0.],\n",
       "        [0., 0., 1., ..., 0., 0., 0.],\n",
       "        ...,\n",
       "        [0., 0., 0., ..., 1., 0., 0.],\n",
       "        [0., 0., 0., ..., 0., 1., 0.],\n",
       "        [0., 0., 0., ..., 0., 0., 1.]]),\n",
       " array([0., 0., 0., ..., 0., 0., 0.]),\n",
       " array([[1., 0., 0., ..., 0., 0., 0.],\n",
       "        [0., 1., 0., ..., 0., 0., 0.],\n",
       "        [0., 0., 1., ..., 0., 0., 0.],\n",
       "        ...,\n",
       "        [0., 0., 0., ..., 1., 0., 0.],\n",
       "        [0., 0., 0., ..., 0., 1., 0.],\n",
       "        [0., 0., 0., ..., 0., 0., 1.]]))"
      ]
     },
     "execution_count": 21,
     "metadata": {},
     "output_type": "execute_result"
    }
   ],
   "source": [
    "U_wm1, sigma_wm1, V_wm1 = np.linalg.svd(np.zeros_like(hr_image))\n",
    "U_wm1, sigma_wm1, V_wm1\n"
   ]
  },
  {
   "cell_type": "code",
   "execution_count": 22,
   "metadata": {},
   "outputs": [],
   "source": [
    "sigma_wm_mod = (sigma_hr_mod - sigma_hr) / alpha"
   ]
  },
  {
   "cell_type": "code",
   "execution_count": 23,
   "metadata": {},
   "outputs": [
    {
     "data": {
      "text/plain": [
       "array([8.43965517e+05, 9.88316945e+04, 6.81210838e+04, ...,\n",
       "       6.87642536e-11, 2.89590574e-11, 1.87316829e-11])"
      ]
     },
     "execution_count": 23,
     "metadata": {},
     "output_type": "execute_result"
    }
   ],
   "source": [
    "sigma_wm_mod"
   ]
  },
  {
   "cell_type": "code",
   "execution_count": 24,
   "metadata": {},
   "outputs": [],
   "source": [
    "watermark = np.dot(U_wm[:, :sigma_wm_mod.shape[0]], np.dot(np.diag(sigma_wm_mod), V_wm[:sigma_wm_mod.shape[0],:]))"
   ]
  },
  {
   "cell_type": "code",
   "execution_count": 25,
   "metadata": {},
   "outputs": [],
   "source": [
    "img=Image.fromarray(watermark)\n",
    "img.show()"
   ]
  },
  {
   "cell_type": "code",
   "execution_count": null,
   "metadata": {},
   "outputs": [],
   "source": []
  }
 ],
 "metadata": {
  "kernelspec": {
   "display_name": "Python 3",
   "language": "python",
   "name": "python3"
  },
  "language_info": {
   "codemirror_mode": {
    "name": "ipython",
    "version": 3
   },
   "file_extension": ".py",
   "mimetype": "text/x-python",
   "name": "python",
   "nbconvert_exporter": "python",
   "pygments_lexer": "ipython3",
   "version": "3.11.2"
  },
  "orig_nbformat": 4
 },
 "nbformat": 4,
 "nbformat_minor": 2
}
