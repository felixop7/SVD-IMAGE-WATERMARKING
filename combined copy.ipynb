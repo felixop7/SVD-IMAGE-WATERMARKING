{
 "cells": [
  {
   "cell_type": "code",
   "execution_count": 61,
   "metadata": {},
   "outputs": [],
   "source": [
    "from PIL import Image\n",
    "import numpy as np\n",
    "import cv2\n"
   ]
  },
  {
   "cell_type": "code",
   "execution_count": 62,
   "metadata": {},
   "outputs": [],
   "source": [
    "# Load the host and watermark images\n",
    "hr_image = Image.open(\"high_resolution_image.jpg\")\n",
    "wm_image = Image.open(\"./ravenLogo.jpg\")\n",
    "\n",
    "# Resize the watermark image to the same size as the host image\n",
    "wm_image_resized = wm_image.resize(hr_image.size)\n",
    "\n",
    "# Convert both images to grayscale\n",
    "hr_image = hr_image.convert(\"L\")\n",
    "wm_image_resized = wm_image_resized.convert(\"L\")\n"
   ]
  },
  {
   "cell_type": "code",
   "execution_count": 63,
   "metadata": {},
   "outputs": [],
   "source": [
    "# hr_image = cv2.imread('high_resolution_image.jpg', cv2.IMREAD_GRAYSCALE)\n",
    "# wm_image = cv2.imread('./download.png', cv2.IMREAD_GRAYSCALE)\n"
   ]
  },
  {
   "cell_type": "code",
   "execution_count": 64,
   "metadata": {},
   "outputs": [],
   "source": [
    "# hr_image = cv2.imread('high_resolution_image.jpg')\n",
    "# wm_image = cv2.imread('./download.png')\n"
   ]
  },
  {
   "cell_type": "code",
   "execution_count": 65,
   "metadata": {},
   "outputs": [],
   "source": [
    "# wm_image_resized = cv2.resize(wm_image, hr_image.shape[::-1])"
   ]
  },
  {
   "cell_type": "code",
   "execution_count": 66,
   "metadata": {},
   "outputs": [
    {
     "ename": "KeyboardInterrupt",
     "evalue": "",
     "output_type": "error",
     "traceback": [
      "\u001b[1;31m---------------------------------------------------------------------------\u001b[0m",
      "\u001b[1;31mKeyboardInterrupt\u001b[0m                         Traceback (most recent call last)",
      "Cell \u001b[1;32mIn[66], line 1\u001b[0m\n\u001b[1;32m----> 1\u001b[0m U_hr, sigma_hr, V_hr \u001b[39m=\u001b[39m np\u001b[39m.\u001b[39;49mlinalg\u001b[39m.\u001b[39;49msvd(hr_image)\n",
      "File \u001b[1;32m<__array_function__ internals>:200\u001b[0m, in \u001b[0;36msvd\u001b[1;34m(*args, **kwargs)\u001b[0m\n",
      "File \u001b[1;32mc:\\Users\\Helios\\AppData\\Local\\Programs\\Python\\Python311\\Lib\\site-packages\\numpy\\linalg\\linalg.py:1642\u001b[0m, in \u001b[0;36msvd\u001b[1;34m(a, full_matrices, compute_uv, hermitian)\u001b[0m\n\u001b[0;32m   1639\u001b[0m         gufunc \u001b[39m=\u001b[39m _umath_linalg\u001b[39m.\u001b[39msvd_n_s\n\u001b[0;32m   1641\u001b[0m signature \u001b[39m=\u001b[39m \u001b[39m'\u001b[39m\u001b[39mD->DdD\u001b[39m\u001b[39m'\u001b[39m \u001b[39mif\u001b[39;00m isComplexType(t) \u001b[39melse\u001b[39;00m \u001b[39m'\u001b[39m\u001b[39md->ddd\u001b[39m\u001b[39m'\u001b[39m\n\u001b[1;32m-> 1642\u001b[0m u, s, vh \u001b[39m=\u001b[39m gufunc(a, signature\u001b[39m=\u001b[39;49msignature, extobj\u001b[39m=\u001b[39;49mextobj)\n\u001b[0;32m   1643\u001b[0m u \u001b[39m=\u001b[39m u\u001b[39m.\u001b[39mastype(result_t, copy\u001b[39m=\u001b[39m\u001b[39mFalse\u001b[39;00m)\n\u001b[0;32m   1644\u001b[0m s \u001b[39m=\u001b[39m s\u001b[39m.\u001b[39mastype(_realType(result_t), copy\u001b[39m=\u001b[39m\u001b[39mFalse\u001b[39;00m)\n",
      "\u001b[1;31mKeyboardInterrupt\u001b[0m: "
     ]
    }
   ],
   "source": [
    "U_hr, sigma_hr, V_hr = np.linalg.svd(hr_image)"
   ]
  },
  {
   "cell_type": "code",
   "execution_count": null,
   "metadata": {},
   "outputs": [
    {
     "data": {
      "text/plain": [
       "array([[ 0.01048138,  0.01586544,  0.01058289, ..., -0.02016765,\n",
       "         0.01017384, -0.01096529],\n",
       "       [ 0.01049814,  0.01588426,  0.01053788, ...,  0.0561238 ,\n",
       "        -0.01881205, -0.01012581],\n",
       "       [ 0.01052205,  0.01589693,  0.01051243, ..., -0.01547944,\n",
       "         0.01076705,  0.02154981],\n",
       "       ...,\n",
       "       [ 0.00316736,  0.01004396, -0.00239396, ..., -0.01102048,\n",
       "         0.01805149,  0.0211272 ],\n",
       "       [ 0.00316531,  0.01013575, -0.00301917, ...,  0.01078797,\n",
       "        -0.0224164 ,  0.0095271 ],\n",
       "       [ 0.00316252,  0.01017166, -0.00318538, ..., -0.0040119 ,\n",
       "         0.02046394, -0.01273782]])"
      ]
     },
     "execution_count": 41,
     "metadata": {},
     "output_type": "execute_result"
    }
   ],
   "source": [
    "U_hr"
   ]
  },
  {
   "cell_type": "code",
   "execution_count": null,
   "metadata": {},
   "outputs": [
    {
     "data": {
      "text/plain": [
       "array([3.94059786e+05, 8.62034800e+04, 4.28296783e+04, ...,\n",
       "       6.78103592e+00, 6.71517895e+00, 6.66104808e+00])"
      ]
     },
     "execution_count": 42,
     "metadata": {},
     "output_type": "execute_result"
    }
   ],
   "source": [
    "sigma_hr"
   ]
  },
  {
   "cell_type": "code",
   "execution_count": null,
   "metadata": {},
   "outputs": [
    {
     "data": {
      "text/plain": [
       "array([[ 6.16607823e-03,  6.16918847e-03,  6.17463641e-03, ...,\n",
       "         3.95141258e-03,  3.95400788e-03,  3.95059285e-03],\n",
       "       [-6.58376375e-03, -6.53393161e-03, -6.49567229e-03, ...,\n",
       "         9.56896267e-03,  9.57393587e-03,  9.54534473e-03],\n",
       "       [ 4.28410374e-03,  4.18640186e-03,  4.11677890e-03, ...,\n",
       "         8.86172377e-03,  8.88168188e-03,  8.87935101e-03],\n",
       "       ...,\n",
       "       [ 1.59231363e-03, -6.85560395e-03,  1.71597659e-03, ...,\n",
       "         5.74650007e-01, -1.43948525e-01, -8.71123739e-02],\n",
       "       [-3.03242332e-03,  1.24028335e-02, -5.58871039e-03, ...,\n",
       "        -1.40842345e-01,  5.25180858e-01, -1.54422566e-01],\n",
       "       [-3.53734728e-04,  1.95760313e-02, -1.31335894e-02, ...,\n",
       "        -8.78492097e-02, -1.58914596e-01,  4.92485754e-01]])"
      ]
     },
     "execution_count": 43,
     "metadata": {},
     "output_type": "execute_result"
    }
   ],
   "source": [
    "V_hr"
   ]
  },
  {
   "cell_type": "code",
   "execution_count": null,
   "metadata": {},
   "outputs": [],
   "source": [
    "U_wm, sigma_wm, V_wm = np.linalg.svd(wm_image_resized)"
   ]
  },
  {
   "cell_type": "code",
   "execution_count": null,
   "metadata": {},
   "outputs": [
    {
     "data": {
      "text/plain": [
       "array([[ 0.01928185,  0.00605473,  0.00802464, ...,  0.0678824 ,\n",
       "         0.10627277, -0.1544874 ],\n",
       "       [ 0.01928185,  0.00605473,  0.00802464, ...,  0.00225156,\n",
       "         0.00135001,  0.00161912],\n",
       "       [ 0.01928185,  0.00605473,  0.00802464, ..., -0.13639   ,\n",
       "        -0.14160791,  0.07312868],\n",
       "       ...,\n",
       "       [ 0.01928185,  0.00605473,  0.00802464, ..., -0.01847901,\n",
       "         0.01124279, -0.00632762],\n",
       "       [ 0.01928185,  0.00605473,  0.00802464, ...,  0.01471103,\n",
       "        -0.0347995 ,  0.00156111],\n",
       "       [ 0.01928185,  0.00605473,  0.00802464, ...,  0.01473661,\n",
       "        -0.0347757 ,  0.00152805]])"
      ]
     },
     "execution_count": 45,
     "metadata": {},
     "output_type": "execute_result"
    }
   ],
   "source": [
    "U_wm"
   ]
  },
  {
   "cell_type": "code",
   "execution_count": null,
   "metadata": {},
   "outputs": [
    {
     "data": {
      "text/plain": [
       "array([9.39330057e+05, 2.88628913e+04, 2.61896397e+04, ...,\n",
       "       4.92166993e-11, 3.03318843e-11, 9.03679547e-12])"
      ]
     },
     "execution_count": 46,
     "metadata": {},
     "output_type": "execute_result"
    }
   ],
   "source": [
    "sigma_wm"
   ]
  },
  {
   "cell_type": "code",
   "execution_count": null,
   "metadata": {},
   "outputs": [
    {
     "data": {
      "text/plain": [
       "array([[ 1.43464642e-02,  1.43464642e-02,  1.43464642e-02, ...,\n",
       "         1.43464642e-02,  1.43464642e-02,  1.43464642e-02],\n",
       "       [-7.15168673e-04, -7.15168673e-04, -7.15168673e-04, ...,\n",
       "        -7.15168673e-04, -7.15168673e-04, -7.15168673e-04],\n",
       "       [-7.53372307e-03, -7.53372307e-03, -7.53372307e-03, ...,\n",
       "        -7.53372307e-03, -7.53372307e-03, -7.53372307e-03],\n",
       "       ...,\n",
       "       [-1.88435089e-04,  3.64382199e-03,  5.85795559e-03, ...,\n",
       "         8.76474691e-01, -1.08082610e-01,  1.64127010e-02],\n",
       "       [-1.17657768e-04,  3.75853293e-03,  7.47456479e-03, ...,\n",
       "        -1.08171989e-01,  8.04115247e-01, -7.98931604e-02],\n",
       "       [ 1.09789753e-04, -7.98163671e-04, -7.31382208e-03, ...,\n",
       "         1.47661015e-02, -8.08975733e-02,  8.91553900e-01]])"
      ]
     },
     "execution_count": 47,
     "metadata": {},
     "output_type": "execute_result"
    }
   ],
   "source": [
    "V_wm"
   ]
  },
  {
   "cell_type": "code",
   "execution_count": null,
   "metadata": {},
   "outputs": [],
   "source": [
    "alpha = 0.6\n",
    "sigma_hr_mod = sigma_hr + alpha * sigma_wm"
   ]
  },
  {
   "cell_type": "code",
   "execution_count": null,
   "metadata": {},
   "outputs": [
    {
     "data": {
      "text/plain": [
       "array([9.57657820e+05, 1.03521215e+05, 5.85434621e+04, ...,\n",
       "       6.78103592e+00, 6.71517895e+00, 6.66104808e+00])"
      ]
     },
     "execution_count": 49,
     "metadata": {},
     "output_type": "execute_result"
    }
   ],
   "source": [
    "sigma_hr_mod"
   ]
  },
  {
   "cell_type": "code",
   "execution_count": null,
   "metadata": {},
   "outputs": [
    {
     "data": {
      "text/plain": [
       "array([[57.15444456, 57.16265146, 56.16061459, ..., 69.11850106,\n",
       "        69.10770374, 68.03166083],\n",
       "       [57.18265103, 56.15990984, 56.1585609 , ..., 69.14193355,\n",
       "        68.12338714, 68.06400936],\n",
       "       [57.20068055, 56.1703814 , 56.17762905, ..., 68.17361288,\n",
       "        68.17393658, 67.1207365 ],\n",
       "       ...,\n",
       "       [ 8.87976713,  9.02461511,  9.14234795, ..., 14.00217746,\n",
       "        13.94622359, 13.92079315],\n",
       "       [ 8.82783366,  9.00535652,  9.13732384, ..., 14.14664224,\n",
       "        14.09494624, 14.06141679],\n",
       "       [ 8.6628953 ,  8.84360943,  9.02375324, ..., 14.18303731,\n",
       "        14.13505932, 14.115118  ]])"
      ]
     },
     "execution_count": 50,
     "metadata": {},
     "output_type": "execute_result"
    }
   ],
   "source": [
    "hr_image_mod = np.dot(U_hr[:, :sigma_hr_mod.shape[0]], np.dot(np.diag(sigma_hr_mod), V_hr[:sigma_hr_mod.shape[0],:]))\n",
    "hr_image_mod"
   ]
  },
  {
   "cell_type": "code",
   "execution_count": null,
   "metadata": {},
   "outputs": [
    {
     "data": {
      "text/plain": [
       "array([[24, 24, 23, ..., 29, 29, 28],\n",
       "       [24, 23, 23, ..., 29, 28, 28],\n",
       "       [24, 23, 23, ..., 28, 28, 28],\n",
       "       ...,\n",
       "       [ 3,  3,  3, ...,  5,  5,  5],\n",
       "       [ 3,  3,  3, ...,  5,  5,  5],\n",
       "       [ 3,  3,  3, ...,  5,  5,  5]], dtype=uint8)"
      ]
     },
     "execution_count": 51,
     "metadata": {},
     "output_type": "execute_result"
    }
   ],
   "source": [
    "hr_image_mod = cv2.normalize(hr_image_mod, None, 0, 255, cv2.NORM_MINMAX, dtype=cv2.CV_8U)\n",
    "hr_image_mod\n"
   ]
  },
  {
   "cell_type": "code",
   "execution_count": null,
   "metadata": {},
   "outputs": [],
   "source": [
    "img1 = Image.fromarray(hr_image_mod)\n",
    "img1.show()"
   ]
  },
  {
   "cell_type": "code",
   "execution_count": null,
   "metadata": {},
   "outputs": [],
   "source": [
    "img1.save('output_image.png')"
   ]
  },
  {
   "attachments": {},
   "cell_type": "markdown",
   "metadata": {},
   "source": [
    "\n",
    "# Embedded"
   ]
  },
  {
   "cell_type": "code",
   "execution_count": null,
   "metadata": {},
   "outputs": [],
   "source": [
    "U_hr_mod1, sigma_hr_mod1, V_hr_mod1 = np.linalg.svd(hr_image_mod)"
   ]
  },
  {
   "cell_type": "code",
   "execution_count": null,
   "metadata": {},
   "outputs": [],
   "source": [
    "U_hr1, sigma_hr1, V_hr1 = np.linalg.svd(hr_image)"
   ]
  },
  {
   "cell_type": "code",
   "execution_count": null,
   "metadata": {},
   "outputs": [
    {
     "data": {
      "text/plain": [
       "(array([[1., 0., 0., ..., 0., 0., 0.],\n",
       "        [0., 1., 0., ..., 0., 0., 0.],\n",
       "        [0., 0., 1., ..., 0., 0., 0.],\n",
       "        ...,\n",
       "        [0., 0., 0., ..., 1., 0., 0.],\n",
       "        [0., 0., 0., ..., 0., 1., 0.],\n",
       "        [0., 0., 0., ..., 0., 0., 1.]]),\n",
       " array([0., 0., 0., ..., 0., 0., 0.]),\n",
       " array([[1., 0., 0., ..., 0., 0., 0.],\n",
       "        [0., 1., 0., ..., 0., 0., 0.],\n",
       "        [0., 0., 1., ..., 0., 0., 0.],\n",
       "        ...,\n",
       "        [0., 0., 0., ..., 1., 0., 0.],\n",
       "        [0., 0., 0., ..., 0., 1., 0.],\n",
       "        [0., 0., 0., ..., 0., 0., 1.]]))"
      ]
     },
     "execution_count": 56,
     "metadata": {},
     "output_type": "execute_result"
    }
   ],
   "source": [
    "U_wm1, sigma_wm1, V_wm1 = np.linalg.svd(np.zeros_like(hr_image))\n",
    "U_wm1, sigma_wm1, V_wm1\n"
   ]
  },
  {
   "cell_type": "code",
   "execution_count": null,
   "metadata": {},
   "outputs": [],
   "source": [
    "sigma_wm_mod = (sigma_hr_mod - sigma_hr) / alpha"
   ]
  },
  {
   "cell_type": "code",
   "execution_count": null,
   "metadata": {},
   "outputs": [
    {
     "data": {
      "text/plain": [
       "array([9.39330057e+05, 2.88628913e+04, 2.61896397e+04, ...,\n",
       "       4.92169268e-11, 3.03312930e-11, 9.03721542e-12])"
      ]
     },
     "execution_count": 58,
     "metadata": {},
     "output_type": "execute_result"
    }
   ],
   "source": [
    "sigma_wm_mod"
   ]
  },
  {
   "cell_type": "code",
   "execution_count": null,
   "metadata": {},
   "outputs": [],
   "source": [
    "watermark = np.dot(U_wm[:, :sigma_wm_mod.shape[0]], np.dot(np.diag(sigma_wm_mod), V_wm[:sigma_wm_mod.shape[0],:]))"
   ]
  },
  {
   "cell_type": "code",
   "execution_count": null,
   "metadata": {},
   "outputs": [],
   "source": [
    "img=Image.fromarray(watermark)\n",
    "img.show()"
   ]
  },
  {
   "cell_type": "code",
   "execution_count": null,
   "metadata": {},
   "outputs": [],
   "source": []
  }
 ],
 "metadata": {
  "kernelspec": {
   "display_name": "Python 3",
   "language": "python",
   "name": "python3"
  },
  "language_info": {
   "codemirror_mode": {
    "name": "ipython",
    "version": 3
   },
   "file_extension": ".py",
   "mimetype": "text/x-python",
   "name": "python",
   "nbconvert_exporter": "python",
   "pygments_lexer": "ipython3",
   "version": "3.11.2"
  },
  "orig_nbformat": 4
 },
 "nbformat": 4,
 "nbformat_minor": 2
}
